{
  "cells": [
    {
      "cell_type": "raw",
      "metadata": {},
      "source": [
        "---\n",
        "title: \"Significance Weighted Principal Component Analysis (SWPCA)\"\n",
        "description: \"Significance Weighted Principal Component Analysis (SWPCA) is a technique (1) developed to parse out the influence of a categorical variable that introduces variability in a certain dataset. This was originally intended to remove acquisition site variance in neuroimaging databases.\"\n",
        "author:\n",
        "  - name: F.J. Martinez-Murcia\n",
        "    url: https://fjmartinezmurcia.es/\n",
        "    orcid: 0000-0001-8146-7056\n",
        "    affiliation: Dpt. of Signal Theory, Networking and Communications. University of Granada & DaSCI. \n",
        "    affiliation-url: https://dasci.es/ \n",
        "date: 09-15-2016\n",
        "categories: [python, project] # self-defined categories\n",
        "citation: \n",
        "  url: https://pakitochus.github.io/fjmartinezmurcia.es/posts/2016-09-15-project-sbm/ \n",
        "image: promo-swpca.jpg\n",
        "draft: false # setting this to `true` will prevent your post from appearing on your listing page until you're ready!\n",
        "bibliography: sbm.bib\n",
        "---"
      ],
      "id": "37fe1b37"
    },
    {
      "cell_type": "markdown",
      "metadata": {},
      "source": [
        "Significance Weighted Principal Component Analysis (SWPCA) is a technique (1) developed to parse out the influence of a categorical variable that introduces variability in a certain dataset. This was originally intended to remove acquisition site variance in neuroimaging databases.\n",
        "\n",
        "Download the code in: \n",
        "[{{< fa download >}} Download](https://github.com/SiPBA/swpca){.btn .btn-primary .btn role=\"button\" data-toggle=\"tooltip\" title=\"Download the package\"}\n",
        "\n",
        "# Use\n",
        "To use the script to remove, navigate to the download dir, load the library (import swpca) into your environment and execute this command using the current dataset and acquisition site variables:\n"
      ],
      "id": "e7519152"
    },
    {
      "cell_type": "code",
      "metadata": {},
      "source": [
        "import swpca\n",
        "dataset_rect,weights,A =swpca.swpca(dataset, site)"
      ],
      "id": "03898f97",
      "execution_count": null,
      "outputs": []
    },
    {
      "cell_type": "markdown",
      "metadata": {},
      "source": [
        "It will return the rectified dataset, to be used in subsequent analysis.\n",
        "\n",
        "# Algorithm Pipeline and Context\n",
        "The main use of the SWPCA algorithm is within the context of common neuroimaging analysis, such as Voxel Based Morphometry (VBM) or a classification analysis. It is a preprocessing step, and as such, it is used just after any other preprocessing steps (such as normalization, etc), and before any further analysis. It provides rectified maps with the influence of the categorical variables removed, therefore decreasing the occurrence of false positives."
      ],
      "id": "8f6bfc9f"
    }
  ],
  "metadata": {
    "kernelspec": {
      "name": "python3",
      "language": "python",
      "display_name": "Python 3 (ipykernel)"
    }
  },
  "nbformat": 4,
  "nbformat_minor": 5
}